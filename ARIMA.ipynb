{
 "cells": [
  {
   "cell_type": "code",
   "execution_count": 1,
   "metadata": {},
   "outputs": [],
   "source": [
    "import pandas as pd\n",
    "import numpy as np\n",
    "import matplotlib.pyplot as plt\n",
    "import seaborn as sns\n",
    "from statsmodels.tsa.stattools import adfuller\n",
    "from statsmodels.graphics.tsaplots import plot_acf, plot_pacf\n",
    "from statsmodels.tsa.arima.model import ARIMA\n",
    "from pmdarima import auto_arima\n",
    "from sklearn.model_selection import train_test_split\n",
    "from sklearn.metrics import mean_absolute_error, mean_squared_error,root_mean_squared_error\n"
   ]
  },
  {
   "cell_type": "code",
   "execution_count": 2,
   "metadata": {},
   "outputs": [
    {
     "data": {
      "text/html": [
       "<div>\n",
       "<style scoped>\n",
       "    .dataframe tbody tr th:only-of-type {\n",
       "        vertical-align: middle;\n",
       "    }\n",
       "\n",
       "    .dataframe tbody tr th {\n",
       "        vertical-align: top;\n",
       "    }\n",
       "\n",
       "    .dataframe thead th {\n",
       "        text-align: right;\n",
       "    }\n",
       "</style>\n",
       "<table border=\"1\" class=\"dataframe\">\n",
       "  <thead>\n",
       "    <tr style=\"text-align: right;\">\n",
       "      <th></th>\n",
       "      <th>year</th>\n",
       "      <th>creditor</th>\n",
       "      <th>debtor</th>\n",
       "      <th>indicator</th>\n",
       "      <th>debt</th>\n",
       "    </tr>\n",
       "  </thead>\n",
       "  <tbody>\n",
       "    <tr>\n",
       "      <th>0</th>\n",
       "      <td>1970</td>\n",
       "      <td>WLD</td>\n",
       "      <td>IND</td>\n",
       "      <td>DT.DOD.DECT.CD</td>\n",
       "      <td>8.425121e+09</td>\n",
       "    </tr>\n",
       "    <tr>\n",
       "      <th>1</th>\n",
       "      <td>1971</td>\n",
       "      <td>WLD</td>\n",
       "      <td>IND</td>\n",
       "      <td>DT.DOD.DECT.CD</td>\n",
       "      <td>9.328742e+09</td>\n",
       "    </tr>\n",
       "    <tr>\n",
       "      <th>2</th>\n",
       "      <td>1972</td>\n",
       "      <td>WLD</td>\n",
       "      <td>IND</td>\n",
       "      <td>DT.DOD.DECT.CD</td>\n",
       "      <td>1.002927e+10</td>\n",
       "    </tr>\n",
       "    <tr>\n",
       "      <th>3</th>\n",
       "      <td>1973</td>\n",
       "      <td>WLD</td>\n",
       "      <td>IND</td>\n",
       "      <td>DT.DOD.DECT.CD</td>\n",
       "      <td>1.096592e+10</td>\n",
       "    </tr>\n",
       "    <tr>\n",
       "      <th>4</th>\n",
       "      <td>1974</td>\n",
       "      <td>WLD</td>\n",
       "      <td>IND</td>\n",
       "      <td>DT.DOD.DECT.CD</td>\n",
       "      <td>1.269695e+10</td>\n",
       "    </tr>\n",
       "  </tbody>\n",
       "</table>\n",
       "</div>"
      ],
      "text/plain": [
       "   year creditor debtor       indicator          debt\n",
       "0  1970      WLD    IND  DT.DOD.DECT.CD  8.425121e+09\n",
       "1  1971      WLD    IND  DT.DOD.DECT.CD  9.328742e+09\n",
       "2  1972      WLD    IND  DT.DOD.DECT.CD  1.002927e+10\n",
       "3  1973      WLD    IND  DT.DOD.DECT.CD  1.096592e+10\n",
       "4  1974      WLD    IND  DT.DOD.DECT.CD  1.269695e+10"
      ]
     },
     "execution_count": 2,
     "metadata": {},
     "output_type": "execute_result"
    }
   ],
   "source": [
    "#input data\n",
    "data = pd.read_excel('IND.xlsx')\n",
    "data.head()"
   ]
  },
  {
   "cell_type": "code",
   "execution_count": 3,
   "metadata": {},
   "outputs": [
    {
     "name": "stdout",
     "output_type": "stream",
     "text": [
      "year         0\n",
      "creditor     0\n",
      "debtor       0\n",
      "indicator    0\n",
      "debt         0\n",
      "dtype: int64\n"
     ]
    }
   ],
   "source": [
    "# Check for missing values\n",
    "print(data.isnull().sum())"
   ]
  },
  {
   "cell_type": "code",
   "execution_count": 4,
   "metadata": {},
   "outputs": [
    {
     "data": {
      "text/plain": [
       "Text(0.5, 1.0, 'Boxplot of Debt Amount')"
      ]
     },
     "execution_count": 4,
     "metadata": {},
     "output_type": "execute_result"
    },
    {
     "data": {
      "image/png": "[encoded data removed]",
      "text/plain": [
       "<Figure size 1200x600 with 1 Axes>"
      ]
     },
     "metadata": {},
     "output_type": "display_data"
    }
   ],
   "source": [
    "Q1 = data['debt'].quantile(0.25)\n",
    "Q3 = data['debt'].quantile(0.75)\n",
    "IQR = Q3 - Q1\n",
    "df = data[~((data['debt'] < (Q1 - 1.5 * IQR)) | (data['debt'] > (Q3 + 1.5 * IQR)))]\n",
    "\n",
    "# Plotting\n",
    "plt.figure(figsize=(12, 6))\n",
    "\n",
    "# Before removing outliers\n",
    "plt.subplot(1, 2, 1)\n",
    "sns.boxplot(data['debt'])\n",
    "plt.title('Boxplot of Debt Amount')\n"
   ]
  },
  {
   "cell_type": "code",
   "execution_count": 5,
   "metadata": {},
   "outputs": [
    {
     "name": "stdout",
     "output_type": "stream",
     "text": [
      "ADF Statistic: 1.0720995716448587\n",
      "p-value: 0.9949713266569319\n",
      "Critical Values: {'1%': -3.5656240522121956, '5%': -2.920142229157715, '10%': -2.598014675124952}\n",
      "Data is non-stationary\n"
     ]
    }
   ],
   "source": [
    "# Check stationarity\n",
    "def check_stationarity(series):\n",
    "    result = adfuller(series)\n",
    "    print('ADF Statistic:', result[0])\n",
    "    print('p-value:', result[1])\n",
    "    print('Critical Values:', result[4])\n",
    "    if result[1] <= 0.05:\n",
    "        print(\"Data is stationary\")\n",
    "    else:\n",
    "        print(\"Data is non-stationary\")\n",
    "\n",
    "check_stationarity(data['debt'])"
   ]
  },
  {
   "cell_type": "code",
   "execution_count": 6,
   "metadata": {},
   "outputs": [
    {
     "name": "stdout",
     "output_type": "stream",
     "text": [
      "ADF Statistic: -2.2313730031037675\n",
      "p-value: 0.19505650276199477\n",
      "Critical Values: {'1%': -3.5656240522121956, '5%': -2.920142229157715, '10%': -2.598014675124952}\n",
      "Data is non-stationary\n"
     ]
    }
   ],
   "source": [
    "data['debt_diff'] = data['debt'].diff().dropna()\n",
    "check_stationarity(data['debt_diff'].dropna())"
   ]
  },
  {
   "cell_type": "code",
   "execution_count": 7,
   "metadata": {},
   "outputs": [
    {
     "name": "stdout",
     "output_type": "stream",
     "text": [
      "ADF Statistic: -6.5110573270311844\n",
      "p-value: 1.1001567842049325e-08\n",
      "Critical Values: {'1%': -3.5714715250448363, '5%': -2.922629480573571, '10%': -2.5993358475635153}\n",
      "Data is stationary\n"
     ]
    }
   ],
   "source": [
    "data['debt_diff2'] = data['debt'].diff().diff().dropna()\n",
    "check_stationarity(data['debt_diff2'].dropna())"
   ]
  },
  {
   "cell_type": "code",
   "execution_count": 8,
   "metadata": {},
   "outputs": [
    {
     "name": "stderr",
     "output_type": "stream",
     "text": [
      "c:\\Users\\dhevi\\anaconda3\\Lib\\site-packages\\statsmodels\\tsa\\statespace\\sarimax.py:978: UserWarning: Non-invertible starting MA parameters found. Using zeros as starting parameters.\n",
      "  warn('Non-invertible starting MA parameters found.'\n",
      "c:\\Users\\dhevi\\anaconda3\\Lib\\site-packages\\statsmodels\\tsa\\statespace\\sarimax.py:978: UserWarning: Non-invertible starting MA parameters found. Using zeros as starting parameters.\n",
      "  warn('Non-invertible starting MA parameters found.'\n",
      "c:\\Users\\dhevi\\anaconda3\\Lib\\site-packages\\statsmodels\\tsa\\statespace\\sarimax.py:966: UserWarning: Non-stationary starting autoregressive parameters found. Using zeros as starting parameters.\n",
      "  warn('Non-stationary starting autoregressive parameters'\n",
      "c:\\Users\\dhevi\\anaconda3\\Lib\\site-packages\\statsmodels\\tsa\\statespace\\sarimax.py:966: UserWarning: Non-stationary starting autoregressive parameters found. Using zeros as starting parameters.\n",
      "  warn('Non-stationary starting autoregressive parameters'\n",
      "c:\\Users\\dhevi\\anaconda3\\Lib\\site-packages\\statsmodels\\tsa\\statespace\\sarimax.py:966: UserWarning: Non-stationary starting autoregressive parameters found. Using zeros as starting parameters.\n",
      "  warn('Non-stationary starting autoregressive parameters'\n",
      "c:\\Users\\dhevi\\anaconda3\\Lib\\site-packages\\statsmodels\\tsa\\statespace\\sarimax.py:966: UserWarning: Non-stationary starting autoregressive parameters found. Using zeros as starting parameters.\n",
      "  warn('Non-stationary starting autoregressive parameters'\n",
      "c:\\Users\\dhevi\\anaconda3\\Lib\\site-packages\\statsmodels\\tsa\\statespace\\sarimax.py:966: UserWarning: Non-stationary starting autoregressive parameters found. Using zeros as starting parameters.\n",
      "  warn('Non-stationary starting autoregressive parameters'\n",
      "c:\\Users\\dhevi\\anaconda3\\Lib\\site-packages\\statsmodels\\tsa\\statespace\\sarimax.py:966: UserWarning: Non-stationary starting autoregressive parameters found. Using zeros as starting parameters.\n",
      "  warn('Non-stationary starting autoregressive parameters'\n",
      "c:\\Users\\dhevi\\anaconda3\\Lib\\site-packages\\statsmodels\\tsa\\statespace\\sarimax.py:978: UserWarning: Non-invertible starting MA parameters found. Using zeros as starting parameters.\n",
      "  warn('Non-invertible starting MA parameters found.'\n",
      "c:\\Users\\dhevi\\anaconda3\\Lib\\site-packages\\statsmodels\\tsa\\statespace\\sarimax.py:966: UserWarning: Non-stationary starting autoregressive parameters found. Using zeros as starting parameters.\n",
      "  warn('Non-stationary starting autoregressive parameters'\n",
      "c:\\Users\\dhevi\\anaconda3\\Lib\\site-packages\\statsmodels\\tsa\\statespace\\sarimax.py:966: UserWarning: Non-stationary starting autoregressive parameters found. Using zeros as starting parameters.\n",
      "  warn('Non-stationary starting autoregressive parameters'\n",
      "c:\\Users\\dhevi\\anaconda3\\Lib\\site-packages\\statsmodels\\tsa\\statespace\\sarimax.py:966: UserWarning: Non-stationary starting autoregressive parameters found. Using zeros as starting parameters.\n",
      "  warn('Non-stationary starting autoregressive parameters'\n",
      "c:\\Users\\dhevi\\anaconda3\\Lib\\site-packages\\statsmodels\\tsa\\statespace\\sarimax.py:978: UserWarning: Non-invertible starting MA parameters found. Using zeros as starting parameters.\n",
      "  warn('Non-invertible starting MA parameters found.'\n",
      "c:\\Users\\dhevi\\anaconda3\\Lib\\site-packages\\statsmodels\\tsa\\statespace\\sarimax.py:966: UserWarning: Non-stationary starting autoregressive parameters found. Using zeros as starting parameters.\n",
      "  warn('Non-stationary starting autoregressive parameters'\n",
      "c:\\Users\\dhevi\\anaconda3\\Lib\\site-packages\\statsmodels\\tsa\\statespace\\sarimax.py:966: UserWarning: Non-stationary starting autoregressive parameters found. Using zeros as starting parameters.\n",
      "  warn('Non-stationary starting autoregressive parameters'\n",
      "c:\\Users\\dhevi\\anaconda3\\Lib\\site-packages\\statsmodels\\tsa\\statespace\\sarimax.py:966: UserWarning: Non-stationary starting autoregressive parameters found. Using zeros as starting parameters.\n",
      "  warn('Non-stationary starting autoregressive parameters'\n",
      "c:\\Users\\dhevi\\anaconda3\\Lib\\site-packages\\statsmodels\\base\\model.py:607: ConvergenceWarning: Maximum Likelihood optimization failed to converge. Check mle_retvals\n",
      "  warnings.warn(\"Maximum Likelihood optimization failed to \"\n"
     ]
    },
    {
     "name": "stdout",
     "output_type": "stream",
     "text": [
      "ARIMA Model Comparison:\n",
      "        Order          AIC          BIC\n",
      "0   (0, 0, 0)  3128.182567  3132.160535\n",
      "1   (0, 0, 1)  2932.584573  2938.551525\n",
      "2   (0, 0, 2)  2925.545993  2933.501929\n",
      "3   (0, 0, 3)  2926.471161  2936.416081\n",
      "4   (0, 1, 0)  2671.772617  2673.742909\n",
      "5   (0, 1, 1)  2667.071637  2671.012221\n",
      "6   (0, 1, 2)  2656.248410  2662.159285\n",
      "7   (0, 1, 3)  2659.483638  2667.364806\n",
      "8   (0, 2, 0)  2616.750322  2618.701565\n",
      "9   (0, 2, 1)  2588.884353  2592.786840\n",
      "10  (0, 2, 2)  2588.968827  2594.822558\n",
      "11  (0, 2, 3)  2590.117049  2597.922024\n",
      "12  (1, 0, 0)  2732.423017  2738.389969\n",
      "13  (1, 0, 1)  2725.962557  2733.918493\n",
      "14  (1, 0, 2)  2712.444887  2722.389808\n",
      "15  (1, 0, 3)  2715.227099  2727.161003\n",
      "16  (1, 1, 0)  2655.368291  2659.308875\n",
      "17  (1, 1, 1)  2639.986688  2645.897564\n",
      "18  (1, 1, 2)  2639.373344  2647.254512\n",
      "19  (1, 1, 3)  2641.220266  2651.071726\n",
      "20  (1, 2, 0)  2584.342123  2588.244610\n",
      "21  (1, 2, 1)  2584.232505  2590.086236\n",
      "22  (1, 2, 2)  2583.403218  2591.208193\n",
      "23  (1, 2, 3)  2586.235712  2595.991930\n",
      "24  (2, 0, 0)  2715.553997  2723.509933\n",
      "25  (2, 0, 1)  2755.485164  2765.430084\n",
      "26  (2, 0, 2)  2698.883358  2710.817263\n",
      "27  (2, 0, 3)  2712.540316  2726.463204\n",
      "28  (2, 1, 0)  2633.171099  2639.081975\n",
      "29  (2, 1, 1)  2634.684258  2642.565426\n",
      "30  (2, 1, 2)  2634.168342  2644.019802\n",
      "31  (2, 1, 3)  2637.075899  2648.897651\n",
      "32  (2, 2, 0)  2585.801284  2591.655015\n",
      "33  (2, 2, 1)  2584.342535  2592.147510\n",
      "34  (2, 2, 2)  2585.290965  2595.047184\n",
      "35  (2, 2, 3)  2587.868989  2599.576451\n",
      "36  (3, 0, 0)  2693.260609  2703.205530\n",
      "37  (3, 0, 1)  2694.544965  2706.478869\n",
      "38  (3, 0, 2)  2693.693002  2707.615891\n",
      "39  (3, 0, 3)  2696.405864  2712.317737\n",
      "40  (3, 1, 0)  2635.102925  2642.984093\n",
      "41  (3, 1, 1)  2635.681327  2645.532787\n",
      "42  (3, 1, 2)  2636.101299  2647.923050\n",
      "43  (3, 1, 3)  2639.044973  2652.837017\n",
      "44  (3, 2, 0)  2583.127750  2590.932725\n",
      "45  (3, 2, 1)  2584.756569  2594.512787\n",
      "46  (3, 2, 2)  2587.131988  2598.839450\n",
      "47  (3, 2, 3)  2589.754026  2603.412732\n"
     ]
    }
   ],
   "source": [
    "# Step 4: ARIMA Model Selection Using AIC and BIC\n",
    "def find_best_arima(data, max_p=3, max_d=2, max_q=3):\n",
    "    results = []\n",
    "    for p in range(max_p + 1):\n",
    "        for d in range(max_d + 1):\n",
    "            for q in range(max_q + 1):\n",
    "                try:\n",
    "                    model = ARIMA(data, order=(p, d, q))\n",
    "                    model_fit = model.fit()\n",
    "                    results.append({\n",
    "                        'Order': (p, d, q),\n",
    "                        'AIC': model_fit.aic,\n",
    "                        'BIC': model_fit.bic\n",
    "                    })\n",
    "                except:\n",
    "                    continue\n",
    "    results_df = pd.DataFrame(results)\n",
    "    return results_df\n",
    "\n",
    "# Find the best ARIMA model\n",
    "results_df = find_best_arima(data['debt'])\n",
    "print(\"ARIMA Model Comparison:\")\n",
    "print(results_df)"
   ]
  },
  {
   "cell_type": "code",
   "execution_count": 9,
   "metadata": {},
   "outputs": [
    {
     "name": "stdout",
     "output_type": "stream",
     "text": [
      "\n",
      "Best Model (AIC):\n",
      "Order      (3, 2, 0)\n",
      "AIC       2583.12775\n",
      "BIC      2590.932725\n",
      "Name: 44, dtype: object\n"
     ]
    }
   ],
   "source": [
    "# Select the best model based on AIC\n",
    "best_model_aic = results_df.loc[results_df['AIC'].idxmin()]\n",
    "print(\"\\nBest Model (AIC):\")\n",
    "print(best_model_aic)"
   ]
  },
  {
   "cell_type": "code",
   "execution_count": 10,
   "metadata": {},
   "outputs": [
    {
     "name": "stdout",
     "output_type": "stream",
     "text": [
      "Performing stepwise search to minimize aic\n",
      " ARIMA(2,2,2)(0,0,0)[0] intercept   : AIC=2587.285, Time=0.07 sec\n",
      " ARIMA(0,2,0)(0,0,0)[0] intercept   : AIC=2618.669, Time=0.02 sec\n",
      " ARIMA(1,2,0)(0,0,0)[0] intercept   : AIC=2586.278, Time=0.02 sec\n",
      " ARIMA(0,2,1)(0,0,0)[0] intercept   : AIC=2591.858, Time=0.01 sec\n",
      " ARIMA(0,2,0)(0,0,0)[0]             : AIC=2616.750, Time=0.02 sec\n",
      " ARIMA(2,2,0)(0,0,0)[0] intercept   : AIC=2587.710, Time=0.02 sec\n",
      " ARIMA(1,2,1)(0,0,0)[0] intercept   : AIC=2586.037, Time=0.03 sec\n",
      " ARIMA(2,2,1)(0,0,0)[0] intercept   : AIC=2587.078, Time=0.05 sec\n",
      " ARIMA(1,2,2)(0,0,0)[0] intercept   : AIC=2585.284, Time=0.03 sec\n",
      " ARIMA(0,2,2)(0,0,0)[0] intercept   : AIC=2591.704, Time=0.03 sec\n",
      " ARIMA(1,2,3)(0,0,0)[0] intercept   : AIC=2588.133, Time=0.06 sec\n",
      " ARIMA(0,2,3)(0,0,0)[0] intercept   : AIC=2594.723, Time=0.05 sec\n",
      " ARIMA(2,2,3)(0,0,0)[0] intercept   : AIC=2589.566, Time=0.17 sec\n",
      " ARIMA(1,2,2)(0,0,0)[0]             : AIC=2583.403, Time=0.05 sec\n",
      " ARIMA(0,2,2)(0,0,0)[0]             : AIC=2588.969, Time=0.03 sec\n",
      " ARIMA(1,2,1)(0,0,0)[0]             : AIC=2584.233, Time=0.03 sec\n",
      " ARIMA(2,2,2)(0,0,0)[0]             : AIC=2585.291, Time=0.05 sec\n",
      " ARIMA(1,2,3)(0,0,0)[0]             : AIC=2586.236, Time=0.08 sec\n",
      " ARIMA(0,2,1)(0,0,0)[0]             : AIC=2588.884, Time=0.02 sec\n",
      " ARIMA(0,2,3)(0,0,0)[0]             : AIC=2590.117, Time=0.03 sec\n",
      " ARIMA(2,2,1)(0,0,0)[0]             : AIC=2584.343, Time=0.06 sec\n",
      " ARIMA(2,2,3)(0,0,0)[0]             : AIC=2587.869, Time=0.16 sec\n",
      "\n",
      "Best model:  ARIMA(1,2,2)(0,0,0)[0]          \n",
      "Total fit time: 1.131 seconds\n",
      "                               SARIMAX Results                                \n",
      "==============================================================================\n",
      "Dep. Variable:                      y   No. Observations:                   54\n",
      "Model:               SARIMAX(1, 2, 2)   Log Likelihood               -1287.702\n",
      "Date:                Sat, 01 Mar 2025   AIC                           2583.403\n",
      "Time:                        16:38:22   BIC                           2591.208\n",
      "Sample:                             0   HQIC                          2586.395\n",
      "                                 - 54                                         \n",
      "Covariance Type:                  opg                                         \n",
      "==============================================================================\n",
      "                 coef    std err          z      P>|z|      [0.025      0.975]\n",
      "------------------------------------------------------------------------------\n",
      "ar.L1         -0.9267      0.344     -2.695      0.007      -1.601      -0.253\n",
      "ma.L1          0.0789      0.382      0.206      0.837      -0.671       0.828\n",
      "ma.L2         -0.4352      0.486     -0.895      0.371      -1.389       0.518\n",
      "sigma2      2.201e+20        nan        nan        nan         nan         nan\n",
      "===================================================================================\n",
      "Ljung-Box (L1) (Q):                   0.00   Jarque-Bera (JB):                99.72\n",
      "Prob(Q):                              0.95   Prob(JB):                         0.00\n",
      "Heteroskedasticity (H):             100.68   Skew:                            -0.53\n",
      "Prob(H) (two-sided):                  0.00   Kurtosis:                         9.70\n",
      "===================================================================================\n",
      "\n",
      "Warnings:\n",
      "[1] Covariance matrix calculated using the outer product of gradients (complex-step).\n",
      "[2] Covariance matrix is singular or near-singular, with condition number 6.98e+57. Standard errors may be unstable.\n"
     ]
    }
   ],
   "source": [
    "# Auto ARIMA to find best parameters\n",
    "model = auto_arima(data['debt'], seasonal=False, trace=True)\n",
    "print(model.summary())"
   ]
  },
  {
   "cell_type": "code",
   "execution_count": 11,
   "metadata": {},
   "outputs": [
    {
     "name": "stdout",
     "output_type": "stream",
     "text": [
      "                               SARIMAX Results                                \n",
      "==============================================================================\n",
      "Dep. Variable:                   debt   No. Observations:                   37\n",
      "Model:                 ARIMA(3, 2, 0)   Log Likelihood                -840.059\n",
      "Date:                Sat, 01 Mar 2025   AIC                           1688.119\n",
      "Time:                        16:38:27   BIC                           1694.340\n",
      "Sample:                             0   HQIC                          1690.266\n",
      "                                 - 37                                         \n",
      "Covariance Type:                  opg                                         \n",
      "==============================================================================\n",
      "                 coef    std err          z      P>|z|      [0.025      0.975]\n",
      "------------------------------------------------------------------------------\n",
      "ar.L1         -0.9433      0.312     -3.027      0.002      -1.554      -0.332\n",
      "ar.L2         -1.0454      0.257     -4.068      0.000      -1.549      -0.542\n",
      "ar.L3         -0.3651      0.416     -0.878      0.380      -1.180       0.450\n",
      "sigma2      4.373e+19        nan        nan        nan         nan         nan\n",
      "===================================================================================\n",
      "Ljung-Box (L1) (Q):                   0.03   Jarque-Bera (JB):                91.28\n",
      "Prob(Q):                              0.85   Prob(JB):                         0.00\n",
      "Heteroskedasticity (H):              24.58   Skew:                             1.98\n",
      "Prob(H) (two-sided):                  0.00   Kurtosis:                         9.85\n",
      "===================================================================================\n",
      "\n",
      "Warnings:\n",
      "[1] Covariance matrix calculated using the outer product of gradients (complex-step).\n",
      "[2] Covariance matrix is singular or near-singular, with condition number 1.78e+56. Standard errors may be unstable.\n"
     ]
    }
   ],
   "source": [
    "train, test = train_test_split(data['debt'], test_size=0.3, shuffle=False)\n",
    "\n",
    "# Fit ARIMA model\n",
    "model = ARIMA(train, order=(3, 2, 0))  # (p, d, q)\n",
    "model_fit = model.fit()\n",
    "print(model_fit.summary())\n",
    "\n",
    "# Forecast\n",
    "forecast = model_fit.forecast(steps=len(test))"
   ]
  },
  {
   "cell_type": "code",
   "execution_count": 12,
   "metadata": {},
   "outputs": [
    {
     "name": "stdout",
     "output_type": "stream",
     "text": [
      "Mean Absolute Error (MAE): 171717050595.89902\n",
      "Mean Squared Error (MSE): 3.4633980610307967e+22\n",
      "Root Mean Squared Error (RMSE): 186102070408.44003\n",
      "Mean Absolute Percentage Error (MAPE): 36.70780974724636%\n"
     ]
    }
   ],
   "source": [
    "# Evaluate ARIMA model\n",
    "mae = mean_absolute_error(test, forecast)\n",
    "print(f'Mean Absolute Error (MAE): {mae}')\n",
    "mse = mean_squared_error(test, forecast)\n",
    "print(f'Mean Squared Error (MSE): {mse}')\n",
    "rmse = root_mean_squared_error(test, forecast)\n",
    "print(f'Root Mean Squared Error (RMSE): {rmse}')\n",
    "def mean_absolute_percentage_error(y_true, y_pred):\n",
    "    return np.mean(np.abs((y_true - y_pred) / y_true)) * 100\n",
    "mape = mean_absolute_percentage_error(test, forecast)\n",
    "print(f'Mean Absolute Percentage Error (MAPE): {mape}%')"
   ]
  },
  {
   "cell_type": "code",
   "execution_count": 13,
   "metadata": {},
   "outputs": [
    {
     "name": "stdout",
     "output_type": "stream",
     "text": [
      "                               SARIMAX Results                                \n",
      "==============================================================================\n",
      "Dep. Variable:                   debt   No. Observations:                   37\n",
      "Model:                 ARIMA(1, 2, 2)   Log Likelihood                -841.881\n",
      "Date:                Sat, 01 Mar 2025   AIC                           1691.761\n",
      "Time:                        16:38:33   BIC                           1697.983\n",
      "Sample:                             0   HQIC                          1693.909\n",
      "                                 - 37                                         \n",
      "Covariance Type:                  opg                                         \n",
      "==============================================================================\n",
      "                 coef    std err          z      P>|z|      [0.025      0.975]\n",
      "------------------------------------------------------------------------------\n",
      "ar.L1         -0.0693      1.233     -0.056      0.955      -2.486       2.348\n",
      "ma.L1         -1.1157      0.784     -1.423      0.155      -2.653       0.421\n",
      "ma.L2          0.7160      0.755      0.948      0.343      -0.764       2.196\n",
      "sigma2      6.742e+19   3.86e-21   1.75e+40      0.000    6.74e+19    6.74e+19\n",
      "===================================================================================\n",
      "Ljung-Box (L1) (Q):                   0.02   Jarque-Bera (JB):                28.63\n",
      "Prob(Q):                              0.88   Prob(JB):                         0.00\n",
      "Heteroskedasticity (H):              25.08   Skew:                             0.99\n",
      "Prob(H) (two-sided):                  0.00   Kurtosis:                         6.96\n",
      "===================================================================================\n",
      "\n",
      "Warnings:\n",
      "[1] Covariance matrix calculated using the outer product of gradients (complex-step).\n",
      "[2] Covariance matrix is singular or near-singular, with condition number  5e+56. Standard errors may be unstable.\n"
     ]
    }
   ],
   "source": [
    "train, test = train_test_split(data['debt'], test_size=0.3, shuffle=False)\n",
    "\n",
    "# Fit ARIMA model\n",
    "model = ARIMA(train, order=(1, 2, 2))  # (p, d, q)\n",
    "model_fit = model.fit()\n",
    "print(model_fit.summary())\n",
    "\n",
    "# Forecast\n",
    "forecast = model_fit.forecast(steps=len(test))"
   ]
  },
  {
   "cell_type": "code",
   "execution_count": 14,
   "metadata": {},
   "outputs": [
    {
     "name": "stdout",
     "output_type": "stream",
     "text": [
      "Mean Absolute Error (MAE): 127845439563.31987\n",
      "Mean Squared Error (MSE): 1.8429813685457154e+22\n",
      "Root Mean Squared Error (RMSE): 135756449885.28963\n",
      "Mean Absolute Percentage Error (MAPE): 28.121162987583865%\n"
     ]
    }
   ],
   "source": [
    "# Evaluate ARIMA model\n",
    "mae = mean_absolute_error(test, forecast)\n",
    "print(f'Mean Absolute Error (MAE): {mae}')\n",
    "mse = mean_squared_error(test, forecast)\n",
    "print(f'Mean Squared Error (MSE): {mse}')\n",
    "rmse = root_mean_squared_error(test, forecast)\n",
    "print(f'Root Mean Squared Error (RMSE): {rmse}')\n",
    "def mean_absolute_percentage_error(y_true, y_pred):\n",
    "    return np.mean(np.abs((y_true - y_pred) / y_true)) * 100\n",
    "mape = mean_absolute_percentage_error(test, forecast)\n",
    "print(f'Mean Absolute Percentage Error (MAPE): {mape}%')"
   ]
  },
  {
   "cell_type": "code",
   "execution_count": 15,
   "metadata": {},
   "outputs": [],
   "source": [
    "# Fit the ARIMA model\n",
    "model = ARIMA(data['debt'], order=(1, 2, 2))  # Adjust (p, d, q) as needed\n",
    "model_fit = model.fit()"
   ]
  },
  {
   "cell_type": "code",
   "execution_count": 16,
   "metadata": {},
   "outputs": [],
   "source": [
    "# Predict the debt for the original years\n",
    "data['Predicted_Debt'] = model_fit.predict(start=0, end=len(df) - 1, typ='levels')\n",
    "data['residual']=data['debt']-data['Predicted_Debt']"
   ]
  },
  {
   "cell_type": "code",
   "execution_count": 17,
   "metadata": {},
   "outputs": [
    {
     "name": "stdout",
     "output_type": "stream",
     "text": [
      "    year          debt  Predicted_Debt      residual\n",
      "0   1970  8.425121e+09    0.000000e+00  8.425121e+09\n",
      "1   1971  9.328742e+09    1.049996e+10 -1.171220e+09\n",
      "2   1972  1.002927e+10    1.566090e+10 -5.631635e+09\n",
      "3   1973  1.096592e+10    1.091109e+10  5.483249e+07\n",
      "4   1974  1.269695e+10    1.389676e+10 -1.199805e+09\n",
      "5   1975  1.386561e+10    1.357552e+10  2.900898e+08\n",
      "6   1976  1.458639e+10    1.609065e+10 -1.504255e+09\n",
      "7   1977  1.541466e+10    1.547882e+10 -6.416577e+07\n",
      "8   1978  1.652025e+10    1.679056e+10 -2.703145e+08\n",
      "9   1979  1.819038e+10    1.737548e+10  8.149018e+08\n",
      "10  1980  2.072336e+10    1.951908e+10  1.204277e+09\n",
      "11  1981  2.248007e+10    2.219707e+10  2.830042e+08\n",
      "12  1982  2.694286e+10    2.445447e+10  2.488391e+09\n",
      "13  1983  3.064949e+10    2.897096e+10  1.678533e+09\n",
      "14  1984  3.276396e+10    3.410636e+10 -1.342397e+09\n",
      "15  1985  3.893481e+10    3.551758e+10  3.417232e+09\n",
      "16  1986  4.490944e+10    4.220025e+10  2.709192e+09\n",
      "17  1987  5.342490e+10    4.979246e+10  3.632439e+09\n",
      "18  1988  5.928850e+10    5.869323e+10  5.952751e+08\n",
      "19  1989  7.372106e+10    6.607578e+10  7.645290e+09\n",
      "20  1990  8.347152e+10    8.055658e+10  2.914942e+09\n",
      "21  1991  8.485234e+10    9.446373e+10 -9.611395e+09\n",
      "22  1992  8.777544e+10    9.196285e+10 -4.187411e+09\n",
      "23  1993  9.133033e+10    9.312175e+10 -1.791423e+09\n",
      "24  1994  9.789863e+10    9.598074e+10  1.917886e+09\n",
      "25  1995  9.380898e+10    1.026052e+11 -8.796242e+09\n",
      "26  1996  9.396608e+10    9.806781e+10 -4.101731e+09\n",
      "27  1997  9.405929e+10    9.369215e+10  3.671393e+08\n",
      "28  1998  9.833365e+10    9.602566e+10  2.307986e+09\n",
      "29  1999  9.977951e+10    9.875555e+10  1.023963e+09\n",
      "30  2000  1.011315e+11    1.029229e+11 -1.791435e+09\n",
      "31  2001  9.950009e+10    1.019836e+11 -2.483488e+09\n",
      "32  2002  1.057416e+11    1.012172e+11  4.524440e+09\n",
      "33  2003  1.188846e+11    1.061248e+11  1.275982e+10\n",
      "34  2004  1.236445e+11    1.246693e+11 -1.024806e+09\n",
      "35  2005  1.211955e+11    1.305394e+11 -9.343962e+09\n",
      "36  2006  1.595255e+11    1.251361e+11  3.438945e+10\n",
      "37  2007  2.040575e+11    1.668437e+11  3.721388e+10\n",
      "38  2008  2.271118e+11    2.308113e+11 -3.699562e+09\n",
      "39  2009  2.563122e+11    2.535831e+11  2.729130e+09\n",
      "40  2010  2.904275e+11    2.816421e+11  8.785400e+09\n",
      "41  2011  3.343993e+11    3.194934e+11  1.490588e+10\n",
      "42  2012  3.925761e+11    3.665893e+11  2.598676e+10\n",
      "43  2013  4.272451e+11    4.331516e+11 -5.906487e+09\n",
      "44  2014  4.575074e+11    4.719242e+11 -1.441676e+10\n",
      "45  2015  4.788310e+11    4.932869e+11 -1.445588e+10\n",
      "46  2016  4.555419e+11    5.135721e+11 -5.803017e+10\n",
      "47  2017  5.115757e+11    4.753102e+11  3.626549e+10\n",
      "48  2018  5.211757e+11    5.222139e+11 -1.038248e+09\n",
      "49  2019  5.610174e+11    5.579424e+11  3.075011e+09\n",
      "50  2020  5.649793e+11    5.735281e+11 -8.548818e+09\n",
      "51  2021  6.119872e+11    6.001790e+11  1.180818e+10\n",
      "52  2022  6.155160e+11    6.237555e+11 -8.239464e+09\n",
      "53  2023  6.467871e+11    6.535488e+11 -6.761717e+09\n"
     ]
    }
   ],
   "source": [
    "# Reset the index to include 'Year' as a column\n",
    "data.reset_index(inplace=True)\n",
    "\n",
    "# Select the columns you want to display\n",
    "result_df = data[['year', 'debt', 'Predicted_Debt','residual']]\n",
    "\n",
    "# Print the DataFrame\n",
    "print(result_df)"
   ]
  },
  {
   "cell_type": "code",
   "execution_count": 18,
   "metadata": {},
   "outputs": [
    {
     "data": {
      "image/png": "[encoded data removed]",
      "text/plain": [
       "<Figure size 1000x600 with 1 Axes>"
      ]
     },
     "metadata": {},
     "output_type": "display_data"
    },
    {
     "data": {
      "image/png": "[encoded data removed]",
      "text/plain": [
       "<Figure size 1000x400 with 1 Axes>"
      ]
     },
     "metadata": {},
     "output_type": "display_data"
    }
   ],
   "source": [
    "plt.figure(figsize=(10, 6))\n",
    "plt.plot(result_df['year'], result_df['debt'], 'o-', label='Original Debt')\n",
    "plt.plot(result_df['year'], result_df['Predicted_Debt'], 's--', label='Predicted Debt')\n",
    "plt.xlabel('Year')\n",
    "plt.ylabel('Debt')\n",
    "plt.title('Original vs Predicted Debt Over Time')\n",
    "plt.legend()\n",
    "plt.grid(True)\n",
    "plt.xticks(rotation=45)\n",
    "plt.tight_layout()\n",
    "plt.show()\n",
    "\n",
    "# Optional: Plot residuals\n",
    "plt.figure(figsize=(10, 4))\n",
    "plt.bar(result_df['year'], result_df['residual'])\n",
    "plt.axhline(y=0, color='r', linestyle='-')\n",
    "plt.xlabel('Year')\n",
    "plt.ylabel('Residual')\n",
    "plt.title('Residuals (Original - Predicted)')\n",
    "plt.xticks(rotation=45)\n",
    "plt.tight_layout()\n",
    "plt.show()"
   ]
  },
  {
   "cell_type": "code",
   "execution_count": null,
   "metadata": {},
   "outputs": [],
   "source": []
  }
 ],
 "metadata": {
  "kernelspec": {
   "display_name": "base",
   "language": "python",
   "name": "python3"
  },
  "language_info": {
   "codemirror_mode": {
    "name": "ipython",
    "version": 3
   },
   "file_extension": ".py",
   "mimetype": "text/x-python",
   "name": "python",
   "nbconvert_exporter": "python",
   "pygments_lexer": "ipython3",
   "version": "3.12.4"
  }
 },
 "nbformat": 4,
 "nbformat_minor": 2
}
